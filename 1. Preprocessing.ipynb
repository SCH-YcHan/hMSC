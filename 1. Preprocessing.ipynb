{
 "cells": [
  {
   "cell_type": "code",
   "execution_count": null,
   "id": "2e515baa-f7fe-4015-93d9-86eddee23004",
   "metadata": {},
   "outputs": [],
   "source": [
    "from f_actin_analyzer import StemCellAnalyzer"
   ]
  },
  {
   "cell_type": "code",
   "execution_count": null,
   "id": "a2f05f34-dab3-4c00-88e3-dfc0edf0564b",
   "metadata": {},
   "outputs": [],
   "source": [
    "Soft_Stiff_folders = [str(i+1) for i in range(12)]"
   ]
  },
  {
   "cell_type": "code",
   "execution_count": null,
   "id": "1826a0c1-45a9-440a-ac78-2ed7a047d61d",
   "metadata": {},
   "outputs": [],
   "source": [
    "analyzer = StemCellAnalyzer(data_path='./data', save_path='./1. F-actin')\n",
    "analyzer.intden_analysis(type_folder='Soft', output_file='Soft_intden_analysis.csv', folders=Soft_Stiff_folders)\n",
    "analyzer.intden_analysis(type_folder='Stiff', output_file='Stiff_intden_analysis.csv', folders=Soft_Stiff_folders)"
   ]
  },
  {
   "cell_type": "code",
   "execution_count": null,
   "id": "8b1bad01-f38f-4fc6-ac95-e78f8d0e1f66",
   "metadata": {},
   "outputs": [],
   "source": [
    "analyzer = StemCellAnalyzer(data_path='./data', save_path='./2. Adhesion')\n",
    "analyzer.adhesion_analysis(type_folder='Soft', folders=Soft_Stiff_folders)\n",
    "analyzer.adhesion_analysis(type_folder='Stiff', folders=Soft_Stiff_folders)"
   ]
  },
  {
   "cell_type": "code",
   "execution_count": null,
   "id": "a0faa035-6c28-449d-a5fd-72605de97c27",
   "metadata": {},
   "outputs": [],
   "source": [
    "analyzer = StemCellAnalyzer(data_path='./data', save_path='./3. YAP')\n",
    "analyzer.yap_analysis(type_folder='Soft', output_file='Soft_yap_analysis.csv', folders=['10', '11', '12'])\n",
    "analyzer.yap_analysis(type_folder='Stiff', output_file='Stiff_yap_analysis.csv', folders=['10', '11', '12'])"
   ]
  }
 ],
 "metadata": {
  "kernelspec": {
   "display_name": "Python 3 (ipykernel)",
   "language": "python",
   "name": "python3"
  },
  "language_info": {
   "codemirror_mode": {
    "name": "ipython",
    "version": 3
   },
   "file_extension": ".py",
   "mimetype": "text/x-python",
   "name": "python",
   "nbconvert_exporter": "python",
   "pygments_lexer": "ipython3",
   "version": "3.10.0"
  }
 },
 "nbformat": 4,
 "nbformat_minor": 5
}
